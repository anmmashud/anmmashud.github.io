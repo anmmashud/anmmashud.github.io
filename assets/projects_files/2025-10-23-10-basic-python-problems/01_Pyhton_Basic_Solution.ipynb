{
 "cells": [
  {
   "cell_type": "markdown",
   "id": "9818ffc8",
   "metadata": {},
   "source": [
    "<h1 align=\"center\">Python Practice Problems</h1>"
   ]
  },
  {
   "cell_type": "markdown",
   "id": "92c96f2f",
   "metadata": {},
   "source": [
    "## 1. Find the Largest of Two Numbers\n",
    "**Task:** Given two numbers, find the larger one.  \n",
    "**Demo Input:**  5 and 6 <br>\n",
    "**Output:** 6\n"
   ]
  },
  {
   "cell_type": "code",
   "execution_count": null,
   "id": "15c848cf",
   "metadata": {},
   "outputs": [],
   "source": [
    "num_1 = 5  # 1st input\n",
    "num_2 = 6  # 2nd input\n",
    "if num_1 > num_2:\n",
    "    print(f\"The largest number is {num_1}\")\n",
    "else:\n",
    "    print(f\"The largest number is {num_2}\")"
   ]
  },
  {
   "cell_type": "markdown",
   "id": "c8c1c683",
   "metadata": {},
   "source": [
    "## 2. Print Numbers from 1 to N\n",
    "**Task**: Given a number `n`, print all numbers from 1 to `n`. <br> \n",
    "**Demo Input**: `5`  <br>\n",
    "**Demo Output**:  1 2 3 4 5\n"
   ]
  },
  {
   "cell_type": "code",
   "execution_count": null,
   "id": "4f9f4529",
   "metadata": {},
   "outputs": [],
   "source": [
    "n = 5 # input\n",
    "for i in range(1, n+1):\n",
    "    print(i)"
   ]
  },
  {
   "cell_type": "markdown",
   "id": "899df468",
   "metadata": {},
   "source": [
    "## 3. Check if a Number is Positive or Negative\n",
    "**Task**: Determine if the input number is positive, negative, or zero.  \n",
    "**Demo Input**: `-3`  \n",
    "**Demo Output**: `The number is Negative`"
   ]
  },
  {
   "cell_type": "code",
   "execution_count": null,
   "id": "56ae285e",
   "metadata": {},
   "outputs": [],
   "source": [
    "number = -3    \n",
    "#number = int(input(\"Enter a number: \"))\n",
    "if number > 0:\n",
    "    print(f\"The nubmer: {number}, is pisitive (+ve)\")\n",
    "else:\n",
    "    print(f\"The nubmer: {number}, is negetive (-ve)\")"
   ]
  },
  {
   "cell_type": "markdown",
   "id": "9d865d12",
   "metadata": {},
   "source": [
    "## 4. Calculate the Sum of Digits\n",
    "**Task**: Given a number, find the sum of its digits.  \n",
    "**Demo Input**: `123`  \n",
    "**Demo Output**: `6`  \n",
    "(Explanation: `1+2+3=6`)"
   ]
  },
  {
   "cell_type": "code",
   "execution_count": null,
   "id": "c28b2c6c",
   "metadata": {},
   "outputs": [],
   "source": [
    "number = 123\n",
    "#number = int(input(\"Enter a number: \"))\n",
    "digit_sum = (sum([int(a) for a in str(number)]))\n",
    "print(f\"Sum of {number} =\", digit_sum)"
   ]
  },
  {
   "cell_type": "markdown",
   "id": "a970046f",
   "metadata": {},
   "source": [
    "## 5. Find Factorial of a Number\n",
    "**Task**: Calculate the factorial of a given number.  \n",
    "**Demo Input**: `4`  \n",
    "**Demo Output**: `24`  \n",
    "(Explanation: `4! = 4*3*2*1 = 24`)"
   ]
  },
  {
   "cell_type": "code",
   "execution_count": null,
   "id": "fd5966d2",
   "metadata": {},
   "outputs": [],
   "source": [
    "input_num = 4\n",
    "fact = 1\n",
    "for digit in range(input_num,0,-1):\n",
    "    fact *= digit \n",
    "print(f\"{input_num}! =\", fact)"
   ]
  },
  {
   "cell_type": "markdown",
   "id": "c8798099",
   "metadata": {},
   "source": [
    "## 6. Count Occurrences of a Digit\n",
    "**Task**: Count how many times a specific digit appears max in a number.  \n",
    "**Demo Input**:  1233321 <br>\n",
    "**Demo Output**: `3`  <br>\n",
    "(Explanation: `3` appears 3 times in `1233321`)"
   ]
  },
  {
   "cell_type": "code",
   "execution_count": null,
   "id": "5772f0e6",
   "metadata": {},
   "outputs": [],
   "source": [
    "input_num = str(1233321)\n",
    "result = input_num.count('1')\n",
    "print(result)"
   ]
  },
  {
   "cell_type": "code",
   "execution_count": null,
   "id": "1793b37c-8524-4857-9bcf-2606af0dd3bb",
   "metadata": {},
   "outputs": [],
   "source": [
    "# solution with \n",
    "input_num = input(\"Enter a number: \")\n",
    "input_dig = input(\"Enter the digit: \")\n",
    "result = input_num.count(input_dig)\n",
    "print(f\"{input_dig} appears {result} times in {input_num}.\")"
   ]
  },
  {
   "cell_type": "markdown",
   "id": "b7f985bc",
   "metadata": {},
   "source": [
    "## 7. Find the GCD of Two Numbers\n",
    "**Task**: Find the greatest common divisor (GCD) of two numbers.  \n",
    "**Demo Input**: 8 and 12 <br>\n",
    "**Demo Output**: `4`"
   ]
  },
  {
   "cell_type": "code",
   "execution_count": null,
   "id": "811ecae5-538d-4c02-aa38-c178229cba5e",
   "metadata": {},
   "outputs": [],
   "source": [
    "a = int(input(\"1st number: \"))\n",
    "b = int(input(\"2nd number: \"))\n",
    "\n",
    "while b != 0:\n",
    "    rem = a % b\n",
    "    a = b\n",
    "    b = rem\n",
    "\n",
    "print(\"GCD is:\", a)"
   ]
  },
  {
   "cell_type": "markdown",
   "id": "14c6a2fd",
   "metadata": {},
   "source": [
    "## 8. Reverse a String\n",
    "**Task**: Reverse the given string.  \n",
    "**Demo Input**: `\"aiquest\"`  \n",
    "**Demo Output**: `\"tseuqia\"`"
   ]
  },
  {
   "cell_type": "code",
   "execution_count": null,
   "id": "08906009-529d-4d7b-8089-6027ee90f12e",
   "metadata": {},
   "outputs": [],
   "source": [
    "word = input(\"Enter anything: \")\n",
    "reverse = ''\n",
    "\n",
    "for char in word:\n",
    "    reverse = char + reverse\n",
    "print(f'''Reverse of \"{word}\" is: \"{reverse}\"''')"
   ]
  },
  {
   "cell_type": "markdown",
   "id": "88317dfd",
   "metadata": {},
   "source": [
    "## 9. Check Armstrong Number\n",
    "**Task**: Check if a number is an Armstrong number (the sum of its digits raised to the power of the number of digits equals the number).  \n",
    "**Demo Input**: `153`  \n",
    "**Demo Output**: `153 is an Armstrong Number`  \n",
    "(Explanation: \\(1^3 + 5^3 + 3^3 = 153\\))"
   ]
  },
  {
   "cell_type": "code",
   "execution_count": null,
   "id": "2602ff94",
   "metadata": {},
   "outputs": [],
   "source": [
    "num = input(\"Enter a number: \")\n",
    "len_num = len(num)\n",
    "result = 0\n",
    "\n",
    "for digit in num:\n",
    "    result += int(digit)**len_num\n",
    "    \n",
    "if result == int(num):\n",
    "    print(f\"{num} is an Armstrong number\")\n",
    "else:\n",
    "    print(f\"{num} is Not Armstrong\")"
   ]
  },
  {
   "cell_type": "markdown",
   "id": "0905a3cc",
   "metadata": {},
   "source": [
    "## 10. Generate a Pattern\n",
    "**Task**: Print a pyramid pattern with `n` rows.  \n",
    "**Demo input:** 4 <br>\n",
    "**Output:** You will see the pyramid pattern with 4 rows"
   ]
  },
  {
   "cell_type": "code",
   "execution_count": 79,
   "id": "83d8b483",
   "metadata": {},
   "outputs": [
    {
     "name": "stdin",
     "output_type": "stream",
     "text": [
      "Enter the number of rows:  5\n"
     ]
    },
    {
     "name": "stdout",
     "output_type": "stream",
     "text": [
      "    ▲\n",
      "   ▲▲▲\n",
      "  ▲▲▲▲▲\n",
      " ▲▲▲▲▲▲▲\n",
      "▲▲▲▲▲▲▲▲▲\n"
     ]
    }
   ],
   "source": [
    "\n",
    "rows = int(input(\"Enter the number of rows: \"))\n",
    "# char = input(\"Enter any character: \")\n",
    "char = \"▲\"\n",
    "\n",
    "for i in range(1, rows+1):\n",
    "    print(\" \" * (rows-i), end=\"\")\n",
    "    print(f\"{char}\" * (2*i-1))"
   ]
  },
  {
   "cell_type": "markdown",
   "id": "ec723917",
   "metadata": {},
   "source": [
    "# Good Luck!"
   ]
  }
 ],
 "metadata": {
  "kernelspec": {
   "display_name": "Python 3 (ipykernel)",
   "language": "python",
   "name": "python3"
  },
  "language_info": {
   "codemirror_mode": {
    "name": "ipython",
    "version": 3
   },
   "file_extension": ".py",
   "mimetype": "text/x-python",
   "name": "python",
   "nbconvert_exporter": "python",
   "pygments_lexer": "ipython3",
   "version": "3.13.5"
  }
 },
 "nbformat": 4,
 "nbformat_minor": 5
}
