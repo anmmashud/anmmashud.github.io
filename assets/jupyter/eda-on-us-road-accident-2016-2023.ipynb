{
 "cells": [
  {
   "cell_type": "markdown",
   "metadata": {},
   "source": [
    "<a href=\"https://www.kaggle.com/code/anmmashud/eda-on-us-road-accident-2016-2023?scriptVersionId=261373117\" target=\"_blank\"><img align=\"left\" alt=\"Kaggle\" title=\"Open in Kaggle\" src=\"https://kaggle.com/static/images/open-in-kaggle.svg\"></a>\n",
    "<a href=\"https://colab.research.google.com/#fileId=https%3A//storage.googleapis.com/kaggle-colab-exported-notebooks/anmmashud/eda-on-us-road-accident-2016-2023.38fb807a-c983-4aa9-8b28-58305f8e5873.ipynb%3FX-Goog-Algorithm%3DGOOG4-RSA-SHA256%26X-Goog-Credential%3Dgcp-kaggle-com%2540kaggle-161607.iam.gserviceaccount.com/20250912/auto/storage/goog4_request%26X-Goog-Date%3D20250912T083005Z%26X-Goog-Expires%3D259200%26X-Goog-SignedHeaders%3Dhost%26X-Goog-Signature%3D8818c5188a79f969cd182b5925fe1ae05e40975fd862d383c774a646cd9dfd49da863c8ed9605d149d8ae9e20b67f7018b2905a4a58beb6b44eccc0e90dc8186bfbb50567f0e7f44643383306f00d3a3c1cfcd095ceda1e54d135a867280ff0b49be4561af632c1cd7fce4e60aeea70bace9b3c9e0a7eb37630944a0b3e614ad9dff61fa02bca4c9d18842596b04fe9c062b200fc282b376bdd4845f22a053edf26440a119376a5a7fa3b3701c585fae5f2cb45a2e0b1f52e6aecde6c26e9fbb8fea5049a6284edcb820f2805e0449b3265ccd7cac300331c004cd10f0ee902b5c92af4ed3d1b3c529fe6ac3ff1780a6eb4f71e0e47d764177d691ec7629ebd1\" target=\"_blank\"><img align=\"left\" alt=\"Colab\" title=\"Open in Colab\" src=\"https://colab.research.google.com/assets/colab-badge.svg\"></a>"
   ]
  },
  {
   "cell_type": "code",
   "execution_count": null,
   "id": "e55b036b",
   "metadata": {
    "_cell_guid": "b1076dfc-b9ad-4769-8c92-a6c4dae69d19",
    "_uuid": "8f2839f25d086af736a60e9eeb907d3b93b6e0e5",
    "execution": {
     "iopub.execute_input": "2025-09-12T05:45:26.66078Z",
     "iopub.status.busy": "2025-09-12T05:45:26.660398Z",
     "iopub.status.idle": "2025-09-12T05:45:28.9673Z",
     "shell.execute_reply": "2025-09-12T05:45:28.965818Z"
    },
    "papermill": {
     "duration": 2.312899,
     "end_time": "2025-09-12T05:45:28.969204",
     "exception": false,
     "start_time": "2025-09-12T05:45:26.656305",
     "status": "completed"
    },
    "tags": []
   },
   "outputs": [
    {
     "name": "stdout",
     "output_type": "stream",
     "text": [
      "/kaggle/input/us-accidents/US_Accidents_March23.csv\n"
     ]
    }
   ],
   "source": [
    "import numpy as np\n",
    "import pandas as pd\n",
    "'''\n",
    "Input data files are available in the read-only \"../input/\" directory\n",
    "For example, running this (by clicking run or pressing Shift+Enter)\n",
    "will list all files under the input directory\n",
    "'''\n",
    "import os\n",
    "for dirname, _, filenames in os.walk('/kaggle/input'):\n",
    "    for filename in filenames:\n",
    "        print(os.path.join(dirname, filename))\n",
    "'''\n",
    "# You can write up to 20GB to the current directory (/kaggle/working/) \n",
    "that gets preserved as output when you create a version using \"Save & Run All\" \n",
    "# You can also write temporary files to /kaggle/temp/, but they won't be saved outside of the current session\n",
    "'''"
   ]
  },
  {
   "cell_type": "code",
   "execution_count": null,
   "id": "8d33e4da",
   "metadata": {
    "papermill": {
     "duration": 0.001573,
     "end_time": "2025-09-12T05:45:28.97277",
     "exception": false,
     "start_time": "2025-09-12T05:45:28.971197",
     "status": "completed"
    },
    "tags": []
   },
   "outputs": [],
   "source": []
  }
 ],
 "metadata": {
  "kaggle": {
   "accelerator": "none",
   "dataSources": [
    {
     "datasetId": 199387,
     "sourceId": 5793796,
     "sourceType": "datasetVersion"
    }
   ],
   "dockerImageVersionId": 31089,
   "isGpuEnabled": false,
   "isInternetEnabled": true,
   "language": "python",
   "sourceType": "notebook"
  },
  "kernelspec": {
   "display_name": "Python 3",
   "language": "python",
   "name": "python3"
  },
  "language_info": {
   "codemirror_mode": {
    "name": "ipython",
    "version": 3
   },
   "file_extension": ".py",
   "mimetype": "text/x-python",
   "name": "python",
   "nbconvert_exporter": "python",
   "pygments_lexer": "ipython3",
   "version": "3.11.13"
  },
  "papermill": {
   "default_parameters": {},
   "duration": 9.880387,
   "end_time": "2025-09-12T05:45:29.598353",
   "environment_variables": {},
   "exception": null,
   "input_path": "__notebook__.ipynb",
   "output_path": "__notebook__.ipynb",
   "parameters": {},
   "start_time": "2025-09-12T05:45:19.717966",
   "version": "2.6.0"
  }
 },
 "nbformat": 4,
 "nbformat_minor": 5
}
